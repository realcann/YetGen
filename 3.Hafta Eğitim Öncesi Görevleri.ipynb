{
  "cells": [
    {
      "cell_type": "markdown",
      "metadata": {
        "id": "tsD4YVAe_Te2"
      },
      "source": [
        "# Problem 1\n",
        "Bir sayının 7'ye bölünebilir olup olmadığını kontrol etmek \n",
        "için bir program yazın.\n",
        "\n",
        "İpucu: Mod operatörünü (%) kullanabilirsiniz."
      ]
    },
    {
      "cell_type": "code",
      "execution_count": 5,
      "metadata": {
        "id": "NGjvNwKx_Te7"
      },
      "outputs": [
        {
          "name": "stdout",
          "output_type": "stream",
          "text": [
            "Sayı 7'ye tam bölünmez.\n"
          ]
        }
      ],
      "source": [
        "x =int(input(\"Bir sayı giriniz:\"))\n",
        "\n",
        "y = x % 7\n",
        "\n",
        "if y == 0 :\n",
        "    print(\"Sayı 7'ye tam bölünür.\")\n",
        "elif y > 0 :\n",
        "    print(\"Sayı 7'ye tam bölünmez.\")\n"
      ]
    },
    {
      "cell_type": "markdown",
      "metadata": {
        "id": "Kg3qiBAI_Te8"
      },
      "source": [
        "# Problem 2\n",
        "Kullanıcıdan vize ve final notu isteyin. Girilen vize notunun %40’ı ve \n",
        "girilen finalnotunun ise %60’ı alınarak yıl sonu not ortalaması hesaplanacaktır. \n",
        "\n",
        "Bu not ortalaması eğer 85 ve üzeri ise AA, \n",
        "\n",
        "75 ve 85 arasında ise BA, \n",
        "\n",
        "70 ve 75 arasında ise BB, \n",
        "\n",
        "65 ve 70 arasında ise CB,\n",
        "\n",
        "60 ve 65 arasında ise CC,\n",
        "\n",
        "55 ve 60 arasında ise DC,\n",
        "\n",
        "50 ve 55 arasında ise DD olarak hesaplanacaktır. \n",
        "\n",
        "Bu öğrencinin yıl sonu toplam notu 50’nin altında ise FF ile dersten kalacaktır. \n",
        "\n",
        "Ayrıca öğrencinin final notu 50’nin altında ise direkt FF ile kalacaktır."
      ]
    },
    {
      "cell_type": "code",
      "execution_count": 2,
      "metadata": {
        "id": "MXTtCxI1_Te8"
      },
      "outputs": [
        {
          "name": "stdout",
          "output_type": "stream",
          "text": [
            "BB\n"
          ]
        }
      ],
      "source": [
        "vize = int(input(\"Vize notu:\"))\n",
        "final = int(input(\"Final notu:\"))\n",
        "\n",
        "x = (vize / 10) * 4\n",
        "y = (final/10) * 6\n",
        "dönemNotu = x + y\n",
        "\n",
        "if dönemNotu > 85 :\n",
        "    print(\"AA\")\n",
        "elif 85 > dönemNotu > 75 :\n",
        "    print(\"BA\")\n",
        "elif 75 > dönemNotu > 70 :\n",
        "    print(\"BB\")\n",
        "elif 70 > dönemNotu > 65 :\n",
        "    print(\"CB\")\n",
        "elif 65> dönemNotu > 60 :\n",
        "    print(\"CC\")\n",
        "elif 60 > dönemNotu > 55 :\n",
        "    print(\"DC\")\n",
        "elif 55 >dönemNotu > 50 :\n",
        "    print(\"DD\")\n",
        "elif dönemNotu < 50 :\n",
        "    print(\"FF\")\n"
      ]
    },
    {
      "cell_type": "markdown",
      "metadata": {
        "id": "tAoRYCTC_Te8"
      },
      "source": [
        "# Problem 3\n",
        "İki YetGenli Zirve'de karşılaşıyorlar. Birbirlerini tanımak için sorular soruyorlar. Birbirlerine yaşlarını soruyorlar. Akıllarına bir Python programı yazıp, yaşlarını ve isimlerini giriyorlar. Büyük olanın yaşını ekrana yazdıran programı yazıyorlar. Sende bu iki YetGenli'ye destek olmak ister misin?\n",
        "\n",
        "```\n",
        "Birinci YetGenlinin ismi: Ahmet\n",
        "Birinci YetGenlinin yaşı : 20\n",
        "İkinci YetGenlinin ismi: Mehmet\n",
        "İkinci YetGenlinin yaşı : 25\n",
        "Mehmet'in yaşı daha büyük ve yaşı 25'tir.\n",
        "```"
      ]
    },
    {
      "cell_type": "code",
      "execution_count": 33,
      "metadata": {
        "id": "bPjE8W0i_Te8"
      },
      "outputs": [
        {
          "name": "stdout",
          "output_type": "stream",
          "text": [
            "mehmet\n"
          ]
        }
      ],
      "source": [
        "yetgen1 = input(\"Adın ne ?:\")\n",
        "yetgen2 = int(input(\"yaşın kaç ?:\"))\n",
        "\n",
        "yetgen3 = input(\"Adın ne ?:\")\n",
        "yetgen4 = int(input(\"yaşın kaç ?:\"))\n",
        "\n",
        "\n",
        "x = yetgen2\n",
        "y = yetgen4\n",
        "\n",
        "if yetgen2 > yetgen4 :\n",
        "    print(yetgen1)\n",
        "elif yetgen2 < yetgen4 :\n",
        "    print(yetgen3)\n",
        "    \n",
        "\n"
      ]
    },
    {
      "cell_type": "markdown",
      "metadata": {
        "id": "zBVv8Tyg_Te9"
      },
      "source": [
        "# Problem 4\n",
        "Pandemi döneminde AVM'lerde ateş ölçümü yapılıyor. AVM'ye giren kişinin ateş ölçümü 37.5 derecenin altında ise girişe izin veriliyor. 37.5 derecenin üstünde ise girişe izin verilmiyor. AVM'ye girişe izin verilip verilmediğini ekrana yazdıran bir program yazın.\n",
        "\n",
        "Program sonunda şöyle bir çıktı elde etmelisiniz:\n",
        "\n",
        "```\n",
        "Ateşiniz 37.5 derece. AVM'ye girebilirsin! Maske takmayı unutma!\n",
        "Ateşiniz 37.6 derece. AVM'ye giremezsin! Hemen evine dön!\n",
        "```"
      ]
    },
    {
      "cell_type": "code",
      "execution_count": 36,
      "metadata": {
        "id": "TSAXs8et_Te9"
      },
      "outputs": [
        {
          "name": "stdout",
          "output_type": "stream",
          "text": [
            "Ateşiniz 37.5 derece. AVM'ye girebilirsin! Maske takmayı unutma!:\n"
          ]
        }
      ],
      "source": [
        "ates = float(input(\"Ateşiniz kaç derece ?:\"))\n",
        "\n",
        "if ates <= 37.5 :\n",
        "    print(\"Ateşiniz 37.5 derece. AVM'ye girebilirsin! Maske takmayı unutma!:\")\n",
        "elif ates > 37.5 :\n",
        "    print(\"Ateşiniz 37.6 derece.AVM'ye giremezsin! Hemen evine dön!:\")"
      ]
    },
    {
      "cell_type": "markdown",
      "metadata": {
        "id": "6AEkZrDt_Te9"
      },
      "source": [
        "# Problem 5\n",
        "YetGen bir spor kulübüyle sponsorluk anlaşması yapıyor. Kulüp, sponsorluk anlaşmasına göre her YetGen liderinin beden kitle indeksini hesaplamak istiyor. Spor kulübü, beden kitle indeksini hesaplamak için YetGen Jump Python liderlerinden Berkcan ve Ahmet'i arıyor. Berkcan ve Ahmet, kulübe yardımcı olmak için bir Python programı yazıyorlar. Sende bu iki YetGen liderine destek olmak ister misin?\n",
        "\n",
        "Kullanıcıdan alınan boy ve kilo değerlerine göre beden kitle indeksini hesaplayın ve şu kurallara göre ekrana şu yazıları yazdırın.\n",
        "\n",
        "\n",
        "Beden Kitle İndeksi, kişinin ağırlığının (kg olarak) boyunun karesine (m olarak) bölünmesiyle hesaplanır.\n",
        "\n",
        "\n",
        "```\n",
        " BKİ 18.5'un altındaysa -------> Zayıf\n",
        "\n",
        " BKİ 18.5 ile 25 arasındaysa ------> Normal\n",
        "\n",
        " BKİ 25 ile 30 arasındaysa --------> Fazla Kilolu\n",
        "\n",
        " BKİ 30'un üstündeyse -------------> Obez\n",
        "```\n",
        "\n"
      ]
    },
    {
      "cell_type": "code",
      "execution_count": 40,
      "metadata": {
        "id": "t-XPI_u0_Te-"
      },
      "outputs": [
        {
          "name": "stdout",
          "output_type": "stream",
          "text": [
            "Fazla Kilolu\n"
          ]
        }
      ],
      "source": [
        "kilo = int(input(\"Kilonuz nedir?:\"))\n",
        "boy = int(input(\"Boyunuz nedir?\"))\n",
        "\n",
        "metre = boy / 100\n",
        "\n",
        "bki = kilo / metre**2\n",
        "\n",
        "if  bki < 18.5 :\n",
        "    print(\"Zayıf\")\n",
        "if  25>bki>18.5 :\n",
        "    print(\"Normal\")\n",
        "if 30>bki>25 :\n",
        "    print(\"Fazla Kilolu\")\n",
        "if bki>30 :\n",
        "    print(\"Obez\")"
      ]
    },
    {
      "cell_type": "markdown",
      "metadata": {
        "id": "oFsvQyaO_Te-"
      },
      "source": [
        "# Problem 6\n",
        "Kullanıcıdan isim, yaş ve eğitim bilgilerini isteyip ehliyet alabilme  durumunu kontrol ediniz. \n",
        "\n",
        "Ehliyet alma koşulu en az 18 yaşında ve eğitim durumu lise ya da üniversite olmalıdır. "
      ]
    },
    {
      "cell_type": "code",
      "execution_count": 44,
      "metadata": {
        "id": "Tu2mcgco_Te-"
      },
      "outputs": [
        {
          "name": "stdout",
          "output_type": "stream",
          "text": [
            "Ehliyet alabilir:\n",
            "Ehliyet alabilir:\n"
          ]
        }
      ],
      "source": [
        "isim = input(\"İsminiz nedir:\")\n",
        "yas = int(input(\"Yaşınız nedir:\"))\n",
        "egitim = input(\"Eğitim durumunuz nedir:\")\n",
        "\n",
        "e = \"lise,üniversite\"\n",
        "\n",
        "\n",
        "if yas > 18 :\n",
        "    print(\"Ehliyet alabilir:\")\n",
        "if e :\n",
        "    print(\"Ehliyet alabilir:\")\n",
        "\n",
        "\n",
        "    YAPAMADIM "
      ]
    },
    {
      "cell_type": "markdown",
      "metadata": {
        "id": "eUkxVSAE_Te_"
      },
      "source": [
        "# Problem 7\n",
        "Bir yılın artık yıl olup olmadığını kontrol etmek için bir program yazın. \n",
        "Artık yıl kuralı:\n",
        "\n",
        "a) Eğer yılın son iki basamağı (00) ile bitmiyor ve yalnızca 4'e tam bölünüyorsa artık yıldır. Ya da, \n",
        "\n",
        "b) Eğer yıl 400'e tam bölünüyorsa artık yıldır.\n",
        "\n",
        "**Örneğin**\n",
        "```\n",
        "2017 artık yıl değildir.\n",
        "1900 artık yıl değildir\n",
        "2012 artık yıldır.\n",
        "2000 artık yıldır.\n",
        "```"
      ]
    },
    {
      "cell_type": "code",
      "execution_count": 1,
      "metadata": {
        "id": "4uWh8qUL_Te_"
      },
      "outputs": [
        {
          "name": "stdout",
          "output_type": "stream",
          "text": [
            "artık yıldır.\n"
          ]
        }
      ],
      "source": [
        "yil = int(input(\"Bir yıl giriniz :\"))\n",
        "\n",
        "if yil % 4 == 0 :\n",
        "  if yil % 100 == 0 :\n",
        "    if yil % 400 == 0 :\n",
        "        print(\"artık yıldır.\")\n",
        "    else:\n",
        "        print(\"artık yıl değildir.\")\n",
        "  else:\n",
        "      print(\"artık yıldır.\")\n",
        "else:\n",
        "    print(\"artık yıl değildir.\")"
      ]
    }
  ],
  "metadata": {
    "colab": {
      "provenance": []
    },
    "kernelspec": {
      "display_name": "Python 3.10.5 64-bit",
      "language": "python",
      "name": "python3"
    },
    "language_info": {
      "codemirror_mode": {
        "name": "ipython",
        "version": 3
      },
      "file_extension": ".py",
      "mimetype": "text/x-python",
      "name": "python",
      "nbconvert_exporter": "python",
      "pygments_lexer": "ipython3",
      "version": "3.11.0"
    },
    "orig_nbformat": 4,
    "vscode": {
      "interpreter": {
        "hash": "5026d2d6e7aaaaba093def813beadff083d8733e4a511af01735cbabd156995d"
      }
    }
  },
  "nbformat": 4,
  "nbformat_minor": 0
}
