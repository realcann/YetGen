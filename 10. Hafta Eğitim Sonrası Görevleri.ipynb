{
 "cells": [
  {
   "attachments": {},
   "cell_type": "markdown",
   "metadata": {},
   "source": [
    "# Problem 1 "
   ]
  },
  {
   "cell_type": "code",
   "execution_count": 2,
   "metadata": {},
   "outputs": [
    {
     "name": "stdout",
     "output_type": "stream",
     "text": [
      "[1 2 3 4 5]\n"
     ]
    }
   ],
   "source": [
    "import numpy as np\n",
    "liste = np.array([1,2,3,4,5])\n",
    "print(np.sort(liste))"
   ]
  },
  {
   "attachments": {},
   "cell_type": "markdown",
   "metadata": {},
   "source": [
    "# Problem 2"
   ]
  },
  {
   "cell_type": "code",
   "execution_count": 4,
   "metadata": {},
   "outputs": [
    {
     "name": "stdout",
     "output_type": "stream",
     "text": [
      "[ 5  6  7  8  9 10 11 12 13 14]\n",
      "[50 55 60 65 70 75 80 85 90 95]\n",
      "[0. 0. 0. 0. 0. 0. 0. 0. 0. 0.]\n",
      "[1. 1. 1. 1. 1. 1. 1. 1. 1. 1.]\n",
      "[  0.  25.  50.  75. 100.]\n",
      "[12 27 14 12 18]\n",
      "[ 0.25138544 -0.30155039 -0.44431153  0.68550771 -0.6557497  -0.67923393\n",
      "  0.60475672 -0.90997715  0.96896077  0.7773612 ]\n",
      "[[43 32 46 38 32]\n",
      " [48 38 30 22 18]\n",
      " [42 21 46 43 27]]\n",
      "[133  91 122 103  77]\n",
      "[191 156 179]\n",
      "48 18 35.06666666666667\n",
      "5\n",
      "[13 10 11]\n",
      "[19 11 11 12 17 11 10 13]\n",
      "[43 32 46 38 32]\n",
      "30\n",
      "[43 48 42]\n",
      "[[1849 1024 2116 1444 1024]\n",
      " [2304 1444  900  484  324]\n",
      " [1764  441 2116 1849  729]]\n",
      "[10 36 14 40]\n"
     ]
    }
   ],
   "source": [
    "\n",
    "liste2 = np.array([10,15,30,45,60])\n",
    "list3 = np.arange(5,15)\n",
    "print(list3)\n",
    "liste4 = np.arange(50,100,5)\n",
    "print(liste4)\n",
    "liste5 = np.zeros(10)\n",
    "print(liste5)\n",
    "print(np.ones(10))\n",
    "liste6 = np.linspace(0,100,5)\n",
    "print(liste6)\n",
    "liste7 = np.random.randint(10,30, size=5)\n",
    "print(liste7)\n",
    "liste8 = np.random.uniform(-1,1, size=10)\n",
    "print(liste8)\n",
    "liste9 = np.random.randint(10,50, size=(3,5))\n",
    "print(liste9)\n",
    "print(np.sum(liste9, axis=0))\n",
    "print(np.sum(liste9, axis=-1))\n",
    "print(f\"{np.max(liste9)} {np.min(liste9)} {np.mean(liste9)}\")\n",
    "print(liste9.argmax())\n",
    "liste10 = np.random.randint(10,20 ,size=8)\n",
    "print(liste10[:3])\n",
    "print(liste10[::-1])\n",
    "print(liste9[0])\n",
    "print(liste9[1,2])\n",
    "print(liste9[:,0])\n",
    "print(liste9**2)\n",
    "liste11 = np.random.randint(-50,50,size=(3,5))\n",
    "pozitifcift= liste11[(liste11 >0 ) & (liste11 % 2 == 0)]\n",
    "print(pozitifcift)\n"
   ]
  },
  {
   "cell_type": "code",
   "execution_count": null,
   "metadata": {},
   "outputs": [],
   "source": []
  }
 ],
 "metadata": {
  "kernelspec": {
   "display_name": "Python 3",
   "language": "python",
   "name": "python3"
  },
  "language_info": {
   "codemirror_mode": {
    "name": "ipython",
    "version": 3
   },
   "file_extension": ".py",
   "mimetype": "text/x-python",
   "name": "python",
   "nbconvert_exporter": "python",
   "pygments_lexer": "ipython3",
   "version": "3.11.0"
  },
  "orig_nbformat": 4,
  "vscode": {
   "interpreter": {
    "hash": "5026d2d6e7aaaaba093def813beadff083d8733e4a511af01735cbabd156995d"
   }
  }
 },
 "nbformat": 4,
 "nbformat_minor": 2
}
