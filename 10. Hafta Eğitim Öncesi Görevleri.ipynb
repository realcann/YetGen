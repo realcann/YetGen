{
 "cells": [
  {
   "attachments": {},
   "cell_type": "markdown",
   "metadata": {},
   "source": [
    "# Problem 1"
   ]
  },
  {
   "cell_type": "code",
   "execution_count": 2,
   "metadata": {},
   "outputs": [
    {
     "name": "stdout",
     "output_type": "stream",
     "text": [
      "[6 8 4 2 4]\n",
      "(5,)\n",
      "[[6]\n",
      " [8]\n",
      " [4]\n",
      " [2]\n",
      " [4]]\n"
     ]
    },
    {
     "data": {
      "text/plain": [
       "1"
      ]
     },
     "execution_count": 2,
     "metadata": {},
     "output_type": "execute_result"
    }
   ],
   "source": [
    "import numpy as np\n",
    "matrix = np.random.randint(0, 11, size=(5))\n",
    "print(matrix)\n",
    "print(matrix.shape)\n",
    "print(matrix.reshape(5,1))\n",
    "matrix.ndim\n"
   ]
  },
  {
   "attachments": {},
   "cell_type": "markdown",
   "metadata": {},
   "source": [
    "# Problem 2"
   ]
  },
  {
   "cell_type": "code",
   "execution_count": 4,
   "metadata": {},
   "outputs": [
    {
     "name": "stdout",
     "output_type": "stream",
     "text": [
      "[1 3] / [5 7] / [9]\n",
      "[1 3 5 7 9]\n"
     ]
    }
   ],
   "source": [
    "matrix = np.arange(1,11)\n",
    "tek_sayı = matrix[matrix%2 !=0]\n",
    "# farklı bir yol\n",
    "matrix2 = np.arange(1,11,2)\n",
    "matrix,b,c = np.split(tek_sayı,[2,4])\n",
    "print(f\"{matrix} / {b} / {c}\")\n",
    "yenimatrix = np.concatenate((matrix,b,c))\n",
    "print(yenimatrix)\n"
   ]
  },
  {
   "attachments": {},
   "cell_type": "markdown",
   "metadata": {},
   "source": [
    "# Problem 3"
   ]
  },
  {
   "cell_type": "code",
   "execution_count": 5,
   "metadata": {},
   "outputs": [
    {
     "name": "stdout",
     "output_type": "stream",
     "text": [
      "[[69 43]\n",
      " [27 97]\n",
      " [59 79]\n",
      " [71 81]\n",
      " [83 53]]\n",
      "2\n",
      "(5, 2)\n",
      "10\n",
      "int32\n"
     ]
    }
   ],
   "source": [
    "matrix = np.arange(5, 101, 2)\n",
    "np.random.shuffle(matrix)\n",
    "matrix = matrix[10:20].reshape(5, 2) \n",
    "print(matrix)\n",
    "print(matrix.ndim)\n",
    "print(matrix.shape)\n",
    "print(matrix.size)\n",
    "print(matrix.dtype)"
   ]
  },
  {
   "cell_type": "code",
   "execution_count": null,
   "metadata": {},
   "outputs": [],
   "source": []
  }
 ],
 "metadata": {
  "kernelspec": {
   "display_name": "Python 3",
   "language": "python",
   "name": "python3"
  },
  "language_info": {
   "codemirror_mode": {
    "name": "ipython",
    "version": 3
   },
   "file_extension": ".py",
   "mimetype": "text/x-python",
   "name": "python",
   "nbconvert_exporter": "python",
   "pygments_lexer": "ipython3",
   "version": "3.11.0"
  },
  "orig_nbformat": 4,
  "vscode": {
   "interpreter": {
    "hash": "5026d2d6e7aaaaba093def813beadff083d8733e4a511af01735cbabd156995d"
   }
  }
 },
 "nbformat": 4,
 "nbformat_minor": 2
}
