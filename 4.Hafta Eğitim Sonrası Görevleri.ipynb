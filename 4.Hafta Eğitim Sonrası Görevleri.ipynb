{
 "cells": [
  {
   "cell_type": "markdown",
   "metadata": {},
   "source": [
    "# Problem 1\n",
    "`ogrenciler` adında bir sözlük oluşturunuz. Kullanıcıdan döngü yardımıyla 3 öğrenci için veri girmesini isteyerek öğrencilerin sırasıyla okul numarası, isim, soy isim, telefon numarası ve doğum tarihi bilgilerini alınız. Aldığınız öğrenci bilgilerini yine aynı döngü yardımıyla `ogrenciler` adındaki sözlükte saklayınız. Daha sonra öğrenci bilgilerinin bulunduğu sözlük yapısını ekrana bastırınız.\n",
    "\n"
   ]
  },
  {
   "cell_type": "code",
   "execution_count": 1,
   "metadata": {},
   "outputs": [
    {
     "name": "stdout",
     "output_type": "stream",
     "text": [
      "{1: {'No': '335', 'İsim': 'can', 'Soy İsim': 'gerçek', 'Telefon': '5050163520', 'Doğum Tarihi': '27 aralık 2002'}}\n",
      "{1: {'No': '335', 'İsim': 'can', 'Soy İsim': 'gerçek', 'Telefon': '5050163520', 'Doğum Tarihi': '27 aralık 2002'}, 2: {'No': '334', 'İsim': 'can', 'Soy İsim': 'can', 'Telefon': '05050505005050', 'Doğum Tarihi': '27 aralık 2003'}}\n",
      "{1: {'No': '335', 'İsim': 'can', 'Soy İsim': 'gerçek', 'Telefon': '5050163520', 'Doğum Tarihi': '27 aralık 2002'}, 2: {'No': '334', 'İsim': 'can', 'Soy İsim': 'can', 'Telefon': '05050505005050', 'Doğum Tarihi': '27 aralık 2003'}, 3: {'No': '331', 'İsim': 'cancan', 'Soy İsim': 'can', 'Telefon': '05050505050', 'Doğum Tarihi': '27 şubat 2004'}}\n"
     ]
    }
   ],
   "source": [
    "ogrenciler = {}\n",
    "for i in range (1,4) :\n",
    "    okulNo = input(\"okul numaranızı giriniz:\")\n",
    "    isim = input(\"isminizi giriniz :\")\n",
    "    soy_isim = input(\"soyisminizi giriniz :\")\n",
    "    telefon = input(\"telefon numaranızı giriniz :\")\n",
    "    doğum_tarihi = input(\"doğum tarihinizi giriniz :\")\n",
    "\n",
    "    ogrenciler [i] = {\n",
    "        \"No\" : okulNo ,\n",
    "        \"İsim\" : isim ,\n",
    "        \"Soy İsim\" : soy_isim ,\n",
    "        \"Telefon\" : telefon ,\n",
    "        \"Doğum Tarihi\" : doğum_tarihi ,\n",
    "    }\n",
    "    print (ogrenciler)"
   ]
  },
  {
   "cell_type": "markdown",
   "metadata": {},
   "source": [
    "# Problem 2\n",
    "\n",
    "### a - Biraz ısınarak başlayalım!\n",
    "\n",
    "```\n",
    "numbers = [5,10,10,15,15,15,20,20,20,20]\n",
    "```\n",
    "\n",
    "Yukarıda `numbers` adında 10 elemanlı bir liste verilmiştir. Bu listenin her elemanını kontrol eden ve tekrar eden elemanları bir kez olacak şekilde başka bir listeye kopyalayan bir program yazınız. Son olarak oluşturduğunuz listeyi ekrana bastırınız.\n",
    "\n",
    "\n",
    "\n",
    "\n",
    "```\n",
    ">Output\n",
    "[5, 10, 15, 20]\n",
    "```\n"
   ]
  },
  {
   "cell_type": "code",
   "execution_count": 2,
   "metadata": {},
   "outputs": [
    {
     "name": "stdout",
     "output_type": "stream",
     "text": [
      "5\n",
      "10\n",
      "15\n",
      "20\n"
     ]
    }
   ],
   "source": [
    "numbers = [5,10,10,15,15,15,20,20,20,20]\n",
    "unique = []\n",
    "\n",
    "for number in numbers :\n",
    "    if number in unique :\n",
    "        continue\n",
    "    else :\n",
    "        unique.append(number)\n",
    "        print(number)"
   ]
  },
  {
   "cell_type": "markdown",
   "metadata": {},
   "source": [
    "### 🌶️ b) Hadi işi biraz daha zorlaştıralım! \n",
    "\n",
    "\n",
    "Şimdiyse senden `numbers` isimli listedeki tekrar eden elemanları `repeatNumbers` adındaki listeye; tekrar etmeyen elemanları `uniqueNumbers`adındaki listeye kopyalayan yazmanı ve listeleri ekrana bastırmanı bekliyoruz\n",
    "\n",
    "```\n",
    ">Output\n",
    "Tekrar Eden Elemanlar: [10, 10, 15, 15, 15, 20, 20, 20, 20]\n",
    "Tekrar Etmeyen Elemanlar: [5]\n",
    "```"
   ]
  },
  {
   "cell_type": "code",
   "execution_count": 5,
   "metadata": {},
   "outputs": [
    {
     "name": "stdout",
     "output_type": "stream",
     "text": [
      "tekrar eden elemanlar : []\n",
      "tekrar etmeyen sayılar : [5]\n",
      "tekrar eden elemanlar : [10]\n",
      "tekrar etmeyen sayılar : [5]\n",
      "tekrar eden elemanlar : [10, 10]\n",
      "tekrar etmeyen sayılar : [5]\n",
      "tekrar eden elemanlar : [10, 10, 15]\n",
      "tekrar etmeyen sayılar : [5]\n",
      "tekrar eden elemanlar : [10, 10, 15, 15]\n",
      "tekrar etmeyen sayılar : [5]\n",
      "tekrar eden elemanlar : [10, 10, 15, 15, 15]\n",
      "tekrar etmeyen sayılar : [5]\n",
      "tekrar eden elemanlar : [10, 10, 15, 15, 15, 20]\n",
      "tekrar etmeyen sayılar : [5]\n",
      "tekrar eden elemanlar : [10, 10, 15, 15, 15, 20, 20]\n",
      "tekrar etmeyen sayılar : [5]\n",
      "tekrar eden elemanlar : [10, 10, 15, 15, 15, 20, 20, 20]\n",
      "tekrar etmeyen sayılar : [5]\n",
      "tekrar eden elemanlar : [10, 10, 15, 15, 15, 20, 20, 20, 20]\n",
      "tekrar etmeyen sayılar : [5]\n"
     ]
    }
   ],
   "source": [
    "numbers = [5,10,10,15,15,15,20,20,20,20]\n",
    "unique = []\n",
    "repeat = []\n",
    "\n",
    "for number in numbers :\n",
    "    if numbers.count(number) == 1 :\n",
    "        unique.append(number)\n",
    "    else :\n",
    "        repeat.append(number)\n",
    "\n",
    "    print(\"tekrar eden elemanlar :\", repeat)\n",
    "    print(\"tekrar etmeyen sayılar :\" ,unique)\n"
   ]
  },
  {
   "cell_type": "markdown",
   "metadata": {},
   "source": [
    "# Problem 3\n",
    "sn1 = {1,2,3,4,5}\n",
    "\n",
    "sn2 = {4,5,6,7,8}\n",
    "\n",
    " Verilen 2 adet küme için kesişimlerini, farklarını ve birleşimlerini bulunuz. "
   ]
  },
  {
   "cell_type": "code",
   "execution_count": 6,
   "metadata": {},
   "outputs": [
    {
     "name": "stdout",
     "output_type": "stream",
     "text": [
      "Kesişimleri {4, 5}\n"
     ]
    }
   ],
   "source": [
    "sn1 = {1,2,3,4,5}\n",
    "sn2 = {4,5,6,7,8}\n",
    "kesisim = sn1.intersection(sn2)\n",
    "print(\"Kesişimleri\", kesisim)"
   ]
  },
  {
   "cell_type": "code",
   "execution_count": 7,
   "metadata": {},
   "outputs": [
    {
     "name": "stdout",
     "output_type": "stream",
     "text": [
      "{1, 2, 3}\n"
     ]
    }
   ],
   "source": [
    "sn1 = {1,2,3,4,5}\n",
    "sn2 = {4,5,6,7,8}\n",
    "\n",
    "fark1 = sn1.difference_update(sn2)\n",
    "print(sn1)"
   ]
  },
  {
   "cell_type": "code",
   "execution_count": 9,
   "metadata": {},
   "outputs": [
    {
     "name": "stdout",
     "output_type": "stream",
     "text": [
      "{6, 7, 8}\n"
     ]
    }
   ],
   "source": [
    "sn1 = {1,2,3,4,5}\n",
    "sn2 = {4,5,6,7,8}\n",
    "fark2 =sn2.difference_update(sn1)\n",
    "print(sn2)\n"
   ]
  },
  {
   "cell_type": "code",
   "execution_count": 10,
   "metadata": {},
   "outputs": [
    {
     "name": "stdout",
     "output_type": "stream",
     "text": [
      "{1, 2, 3, 4, 5, 6, 7, 8}\n"
     ]
    }
   ],
   "source": [
    "sn1 = {1,2,3,4,5,}\n",
    "sn2 = {4,5,6,7,8}\n",
    "birlesim = sn1.update(sn2)\n",
    "print(sn1)"
   ]
  },
  {
   "cell_type": "markdown",
   "metadata": {},
   "source": [
    "# Problem 4\n",
    "\n",
    "Buradaki işlemlerimizin tamamı stringler içindir. Aşağıda verilecek olan metodlar için kendinizin örnek yaratması gerekmektedir. \n",
    "\n",
    "Örneğin `upper` için `string` değişkeni oluştururken` k = \"BAC\"` şeklinde oluşturmayınız. Bunun yerine k değişkenini `k = \"bac`\" şeklinde oluşturmanız `upper` metodundaki değişimi görebilmeniz için daha iyi olacaktır.\n",
    "\n",
    "Bütün metodlardaki değişimin gözle görülür şekilde değişimi beklenmektedir.\n",
    "\n",
    "\n",
    "1- capitalize(), lower(), upper(), swapcase(), title(), replace()\n",
    "\n",
    "2- endswith(), startswith(), find(), index(), count()\n",
    "\n",
    "3- split(), strip(), join(), islower(), isalpha(), isdigit()\n",
    "\n",
    "\n",
    "Yukarıdaki `string` metodlarındaki değişimleri görebildiğimiz bir program yazınız.\n"
   ]
  },
  {
   "cell_type": "code",
   "execution_count": 11,
   "metadata": {},
   "outputs": [
    {
     "name": "stdout",
     "output_type": "stream",
     "text": [
      "yetgen core ile phyton öğreniyorum\n",
      "Yetgen core ile phyton öğreniyorum\n",
      "yetgen core ile phyton öğreniyorum\n",
      "YETGEN CORE ILE PHYTON ÖĞRENIYORUM\n",
      "YETGEN CORE ILE PHYTON ÖĞRENIYORUM\n",
      "Yetgen Core Ile Phyton Öğreniyorum\n",
      "yetgen core ile 21.yüzyıl yetkinlikleri öğreniyorum\n"
     ]
    }
   ],
   "source": [
    "k = \"yetgen core ile phyton öğreniyorum\"\n",
    "print(k)\n",
    "\n",
    "print(k.capitalize())\n",
    "print(k.lower())\n",
    "print(k.upper())\n",
    "print(k.swapcase())\n",
    "print(k.title())\n",
    "print(k.replace(\"phyton\", \"21.yüzyıl yetkinlikleri\"))\n",
    "\n"
   ]
  },
  {
   "cell_type": "code",
   "execution_count": 12,
   "metadata": {},
   "outputs": [
    {
     "name": "stdout",
     "output_type": "stream",
     "text": [
      "yetgen core ile phyton öğreniyorum\n",
      "True\n",
      "False\n",
      "16\n",
      "5\n"
     ]
    }
   ],
   "source": [
    "k = \"yetgen core ile phyton öğreniyorum\"\n",
    "print(k)\n",
    "\n",
    "print(k.endswith(\"öğreniyorum\"))\n",
    "print(k.startswith(\"üniversite\"))\n",
    "print(k.find(\"phyton\"))\n",
    "print(k.count(\"e\"))\n"
   ]
  },
  {
   "cell_type": "code",
   "execution_count": 14,
   "metadata": {},
   "outputs": [
    {
     "name": "stdout",
     "output_type": "stream",
     "text": [
      "yetgen core ile phyton öğreniyorum\n",
      "['yetgen', 'core', 'ile', 'phyton', 'öğreniyorum']\n",
      "yetgen core ile phyton mğreniyorum\n",
      "yetgen#core#ile#phyton#öğrenitorum\n",
      "True\n",
      "False\n",
      "False\n"
     ]
    },
    {
     "ename": "NameError",
     "evalue": "name 'islower' is not defined",
     "output_type": "error",
     "traceback": [
      "\u001b[1;31m---------------------------------------------------------------------------\u001b[0m",
      "\u001b[1;31mNameError\u001b[0m                                 Traceback (most recent call last)",
      "Cell \u001b[1;32mIn[14], line 15\u001b[0m\n\u001b[0;32m     13\u001b[0m \u001b[39mprint\u001b[39m(k\u001b[39m.\u001b[39misalpha())\n\u001b[0;32m     14\u001b[0m \u001b[39mprint\u001b[39m(k\u001b[39m.\u001b[39misdigit())\n\u001b[1;32m---> 15\u001b[0m \u001b[39mprint\u001b[39m(k\u001b[39m.\u001b[39mlower(), islower())\n",
      "\u001b[1;31mNameError\u001b[0m: name 'islower' is not defined"
     ]
    }
   ],
   "source": [
    "k = \"yetgen core ile phyton öğreniyorum\"\n",
    "print(k)\n",
    "print(k.split(\" \"))\n",
    "\n",
    "k = \" yetgen core ile phyton mğreniyorum \"\n",
    "k = k.strip ()\n",
    "print(k)\n",
    "\n",
    "l = (\"yetgen\",\"core\",\"ile\",\"phyton\",\"öğrenitorum\")\n",
    "print(\"#\".join(l))\n",
    "\n",
    "print(k.islower())\n",
    "print(k.isalpha())\n",
    "print(k.isdigit())\n",
    "print(k.lower(), islower())"
   ]
  },
  {
   "cell_type": "code",
   "execution_count": null,
   "metadata": {},
   "outputs": [],
   "source": []
  }
 ],
 "metadata": {
  "kernelspec": {
   "display_name": "Python 3.10.5 64-bit",
   "language": "python",
   "name": "python3"
  },
  "language_info": {
   "codemirror_mode": {
    "name": "ipython",
    "version": 3
   },
   "file_extension": ".py",
   "mimetype": "text/x-python",
   "name": "python",
   "nbconvert_exporter": "python",
   "pygments_lexer": "ipython3",
   "version": "3.11.0"
  },
  "orig_nbformat": 4,
  "vscode": {
   "interpreter": {
    "hash": "5026d2d6e7aaaaba093def813beadff083d8733e4a511af01735cbabd156995d"
   }
  }
 },
 "nbformat": 4,
 "nbformat_minor": 2
}
